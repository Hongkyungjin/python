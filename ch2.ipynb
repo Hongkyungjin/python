{
 "cells": [
  {
   "cell_type": "markdown",
   "metadata": {},
   "source": [
    "# Foundations for Analytics with Python (ch2)"
   ]
  },
  {
   "cell_type": "markdown",
   "metadata": {},
   "source": [
    "## CSV 파일 열기 (pandas)"
   ]
  },
  {
   "cell_type": "code",
   "execution_count": 1,
   "metadata": {
    "scrolled": true
   },
   "outputs": [
    {
     "name": "stdout",
     "output_type": "stream",
     "text": [
      "   Supplier Name Invoice Number  Part Number      Cost Purchase Date\n",
      "0     Supplier X       001-1001         2341  $500.00      1/20/2014\n",
      "1     Supplier X       001-1001         2341  $500.00      1/20/2014\n",
      "2     Supplier X       001-1001         5467  $750.00      1/20/2014\n",
      "3     Supplier X       001-1001         5467  $750.00      1/20/2014\n",
      "4     Supplier Y        50-9501         7009  $250.00      1/30/2014\n",
      "5     Supplier Y        50-9501         7009  $250.00      1/30/2014\n",
      "6     Supplier Y        50-9505         6650  $125.00       2/3/2014\n",
      "7     Supplier Y        50-9505         6650  $125.00       2/3/2014\n",
      "8     Supplier Z       920-4803         3321  $615.00       2/3/2014\n",
      "9     Supplier Z       920-4804         3321  $615.00      2/10/2014\n",
      "10    Supplier Z       920-4805         3321  $615.00      2/17/2014\n",
      "11    Supplier Z       920-4806         3321  $615.00      2/24/2014\n"
     ]
    }
   ],
   "source": [
    "import pandas as pd\n",
    "data_frame = pd.read_csv('supplier_data.csv')\n",
    "print(data_frame)\n",
    "data_frame.to_csv('pandas_output.csv', index=False)"
   ]
  },
  {
   "cell_type": "markdown",
   "metadata": {},
   "source": [
    "## CSV 파일 필터링하기 (pandas) - 조건 제시 (.contains)"
   ]
  },
  {
   "cell_type": "code",
   "execution_count": 2,
   "metadata": {
    "scrolled": true
   },
   "outputs": [
    {
     "name": "stdout",
     "output_type": "stream",
     "text": [
      "   Supplier Name Invoice Number  Part Number   Cost Purchase Date\n",
      "2     Supplier X       001-1001         5467  750.0     1/20/2014\n",
      "3     Supplier X       001-1001         5467  750.0     1/20/2014\n",
      "8     Supplier Z       920-4803         3321  615.0      2/3/2014\n",
      "9     Supplier Z       920-4804         3321  615.0     2/10/2014\n",
      "10    Supplier Z       920-4805         3321  615.0     2/17/2014\n",
      "11    Supplier Z       920-4806         3321  615.0     2/24/2014\n"
     ]
    }
   ],
   "source": [
    "data_frame = pd.read_csv('supplier_data.csv')\n",
    "\n",
    "data_frame['Cost'] = data_frame['Cost'].str.strip('$').astype(float)\n",
    "data_frame_value_meets_condition = data_frame.loc \\\n",
    "[(data_frame['Supplier Name'].str.contains('Z')) | (data_frame['Cost']> 600.0), :]\n",
    "print(data_frame_value_meets_condition)"
   ]
  },
  {
   "cell_type": "markdown",
   "metadata": {},
   "source": [
    "## CSV 파일 필터링하기 (pandas) - 리스트 포함 여부 (.isin)"
   ]
  },
  {
   "cell_type": "code",
   "execution_count": 2,
   "metadata": {
    "scrolled": true
   },
   "outputs": [
    {
     "name": "stdout",
     "output_type": "stream",
     "text": [
      "  Supplier Name Invoice Number  Part Number      Cost Purchase Date\n",
      "0    Supplier X       001-1001         2341  $500.00      1/20/2014\n",
      "1    Supplier X       001-1001         2341  $500.00      1/20/2014\n",
      "2    Supplier X       001-1001         5467  $750.00      1/20/2014\n",
      "3    Supplier X       001-1001         5467  $750.00      1/20/2014\n",
      "4    Supplier Y        50-9501         7009  $250.00      1/30/2014\n",
      "5    Supplier Y        50-9501         7009  $250.00      1/30/2014\n"
     ]
    }
   ],
   "source": [
    "data_frame = pd.read_csv('supplier_data.csv')\n",
    "\n",
    "important_dates = ['1/20/2014', '1/30/2014']\n",
    "data_frame_value_in_set = data_frame.loc \\\n",
    "[data_frame['Purchase Date'].isin(important_dates), :]\n",
    "\n",
    "print(data_frame_value_in_set)"
   ]
  },
  {
   "cell_type": "markdown",
   "metadata": {},
   "source": [
    "## CSV 파일 필터링하기 (pandas) - 패턴 활용(.startswith)"
   ]
  },
  {
   "cell_type": "code",
   "execution_count": 4,
   "metadata": {},
   "outputs": [
    {
     "name": "stdout",
     "output_type": "stream",
     "text": [
      "  Supplier Name Invoice Number  Part Number      Cost Purchase Date\n",
      "0    Supplier X       001-1001         2341  $500.00      1/20/2014\n",
      "1    Supplier X       001-1001         2341  $500.00      1/20/2014\n",
      "2    Supplier X       001-1001         5467  $750.00      1/20/2014\n",
      "3    Supplier X       001-1001         5467  $750.00      1/20/2014\n"
     ]
    }
   ],
   "source": [
    "data_frame = pd.read_csv('supplier_data.csv')\n",
    "\n",
    "data_frame_value_matches_pattern = data_frame.loc \\\n",
    "[data_frame['Invoice Number'].str.startswith('001-'), :]\n",
    "\n",
    "print(data_frame_value_matches_pattern)"
   ]
  },
  {
   "cell_type": "markdown",
   "metadata": {},
   "source": [
    "## 특정 열 선택하기 (pandas) - 인덱스 값 사용(.iloc), 헤더 사용(.loc)"
   ]
  },
  {
   "cell_type": "code",
   "execution_count": 5,
   "metadata": {},
   "outputs": [
    {
     "name": "stdout",
     "output_type": "stream",
     "text": [
      "   Supplier Name      Cost\n",
      "0     Supplier X  $500.00 \n",
      "1     Supplier X  $500.00 \n",
      "2     Supplier X  $750.00 \n",
      "3     Supplier X  $750.00 \n",
      "4     Supplier Y  $250.00 \n",
      "5     Supplier Y  $250.00 \n",
      "6     Supplier Y  $125.00 \n",
      "7     Supplier Y  $125.00 \n",
      "8     Supplier Z  $615.00 \n",
      "9     Supplier Z  $615.00 \n",
      "10    Supplier Z  $615.00 \n",
      "11    Supplier Z  $615.00 \n",
      "--------------------\n",
      "   Invoice Number Purchase Date\n",
      "0        001-1001     1/20/2014\n",
      "1        001-1001     1/20/2014\n",
      "2        001-1001     1/20/2014\n",
      "3        001-1001     1/20/2014\n",
      "4         50-9501     1/30/2014\n",
      "5         50-9501     1/30/2014\n",
      "6         50-9505      2/3/2014\n",
      "7         50-9505      2/3/2014\n",
      "8        920-4803      2/3/2014\n",
      "9        920-4804     2/10/2014\n",
      "10       920-4805     2/17/2014\n",
      "11       920-4806     2/24/2014\n"
     ]
    }
   ],
   "source": [
    "data_frame = pd.read_csv('supplier_data.csv')\n",
    "\n",
    "data_frame_cloumn_by_index = data_frame.iloc[:, [0, 3]] # index = 0 or index = 3\n",
    "\n",
    "print(data_frame_cloumn_by_index)\n",
    "\n",
    "print('-'*20)\n",
    "\n",
    "data_frame_column_by_name = data_frame.loc[:, ['Invoice Number', 'Purchase Date']]\n",
    "\n",
    "print(data_frame_column_by_name)"
   ]
  },
  {
   "cell_type": "markdown",
   "metadata": {},
   "source": [
    "## 파일에서 데이터 값의 합계 및 평균 계산하기 (pandas), 그래프로 표현하기 (matplotlib)"
   ]
  },
  {
   "cell_type": "code",
   "execution_count": 23,
   "metadata": {
    "scrolled": false
   },
   "outputs": [
    {
     "name": "stdout",
     "output_type": "stream",
     "text": [
      "  Supplier Name Invoice Number  Part Number      Cost Purchase Date\n",
      "0    Supplier X       001-1001         2341  $500.00      1/20/2014\n",
      "1    Supplier X       001-1001         2341  $500.00      1/20/2014\n",
      "2    Supplier X       001-1001         5467  $750.00      1/20/2014\n",
      "3    Supplier X       001-1001         5467  $750.00      1/20/2014\n",
      "4    Supplier Y        50-9501         7009  $250.00      1/30/2014\n",
      "total sales:  5710.0\n",
      "average sales:  475.83\n"
     ]
    },
    {
     "data": {
      "image/png": "[encoded data removed]",
      "text/plain": [
       "<Figure size 432x288 with 1 Axes>"
      ]
     },
     "metadata": {
      "needs_background": "light"
     },
     "output_type": "display_data"
    }
   ],
   "source": [
    "import pandas as pd\n",
    "import matplotlib.pyplot as plt\n",
    "%matplotlib inline\n",
    "\n",
    "data_frame = pd.read_csv('supplier_data.csv')\n",
    "\n",
    "print(data_frame.head())\n",
    "\n",
    "cost_list = pd.DataFrame([float(str(value).strip('$').replace(',','')) for value in data_frame.loc[:, 'Cost']])\n",
    "\n",
    "total_sales = cost_list.sum()\n",
    "average_sales = cost_list.mean()\n",
    "\n",
    "print('total sales: ', round(float(total_sales), 2))\n",
    "print('average sales: ', round(float(average_sales), 2))\n",
    "\n",
    "cost_list.boxplot()\n",
    "\n",
    "plt.show()\n",
    "\n",
    "\n"
   ]
  },
  {
   "cell_type": "markdown",
   "metadata": {},
   "source": [
    "## 여러 개의 CSV 파일 합치기 (pandas)"
   ]
  },
  {
   "cell_type": "code",
   "execution_count": 7,
   "metadata": {
    "scrolled": true
   },
   "outputs": [
    {
     "name": "stdout",
     "output_type": "stream",
     "text": [
      "   Supplier Name Invoice Number  Part Number      Cost Purchase Date\n",
      "0     Supplier X       001-1001         2341  $500.00      1/20/2014\n",
      "1     Supplier X       001-1001         2341  $500.00      1/20/2014\n",
      "2     Supplier X       001-1001         5467  $750.00      1/20/2014\n",
      "3     Supplier X       001-1001         5467  $750.00      1/20/2014\n",
      "4     Supplier Y        50-9501         7009  $250.00      1/30/2014\n",
      "5     Supplier Y        50-9501         7009  $250.00      1/30/2014\n",
      "6     Supplier Y        50-9505         6650  $125.00       2/3/2014\n",
      "7     Supplier Y        50-9505         6650  $125.00       2/3/2014\n",
      "8     Supplier Z       920-4803         3321  $615.00       2/3/2014\n",
      "9     Supplier Z       920-4804         3321  $615.00      2/10/2014\n",
      "10    Supplier Z       920-4805         3321  $615.00      2/17/2014\n",
      "11    Supplier Z       920-4806         3321  $615.00      2/24/2014\n",
      "12    Supplier X       001-1001         2341  $500.00      1/20/2014\n",
      "13    Supplier X       001-1001         2341  $500.00      1/20/2014\n",
      "14    Supplier X       001-1001         5467  $750.00      1/20/2014\n",
      "15    Supplier X       001-1001         5467  $750.00      1/20/2014\n",
      "16    Supplier Y        50-9501         7009  $250.00      1/30/2014\n",
      "17    Supplier Y        50-9501         7009  $250.00      1/30/2014\n",
      "18    Supplier Y        50-9505         6650  $125.00       2/3/2014\n",
      "19    Supplier Y        50-9505         6650  $125.00       2/3/2014\n",
      "20    Supplier Z       920-4803         3321  $615.00       2/3/2014\n",
      "21    Supplier Z       920-4804         3321  $615.00      2/10/2014\n",
      "22    Supplier Z       920-4805         3321  $615.00      2/17/2014\n",
      "23    Supplier Z       920-4806         3321  $615.00      2/24/2014\n"
     ]
    }
   ],
   "source": [
    "import pandas as pd\n",
    "\n",
    "all_files = ['supplier_data.csv', 'pandas_output.csv']\n",
    "all_data_frames = []\n",
    "for file in all_files:\n",
    "    data_frame = pd.read_csv(file, index_col=None)\n",
    "    all_data_frames.append(data_frame)\n",
    "data_frame_concat = pd.concat(all_data_frames, axis=0, ignore_index=True)\n",
    "print(data_frame_concat)"
   ]
  },
  {
   "cell_type": "markdown",
   "metadata": {},
   "source": [
    "Thank You\n",
    "jj2015@korea.ac.kr"
   ]
  }
 ],
 "metadata": {
  "kernelspec": {
   "display_name": "Python 3",
   "language": "python",
   "name": "python3"
  },
  "language_info": {
   "codemirror_mode": {
    "name": "ipython",
    "version": 3
   },
   "file_extension": ".py",
   "mimetype": "text/x-python",
   "name": "python",
   "nbconvert_exporter": "python",
   "pygments_lexer": "ipython3",
   "version": "3.7.1"
  }
 },
 "nbformat": 4,
 "nbformat_minor": 2
}
